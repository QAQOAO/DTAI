{
 "cells": [
  {
   "cell_type": "code",
   "execution_count": 19,
   "metadata": {
    "colab": {
     "base_uri": "https://localhost:8080/",
     "height": 69
    },
    "colab_type": "code",
    "id": "fcmJ4XxjXbVa",
    "outputId": "59ebab14-42ca-4c40-b202-0bdea455c453"
   },
   "outputs": [
    {
     "name": "stdout",
     "output_type": "stream",
     "text": [
      "x_train shape: (60000, 28, 28, 1)\n",
      "Number of images in x_train 60000\n",
      "Number of images in x_test 10000\n"
     ]
    }
   ],
   "source": [
    "\n",
    "from keras.datasets import mnist\n",
    "\n",
    "(x_train, y_train), (x_test, y_test) = mnist.load_data()\n",
    "\n",
    "x_train = x_train.reshape(x_train.shape[0], 28, 28, 1)\n",
    "x_test = x_test.reshape(x_test.shape[0], 28, 28, 1)\n",
    "input_shape = (28, 28, 1)\n",
    "\n",
    "x_train = x_train.astype('float32')\n",
    "x_test = x_test.astype('float32')\n",
    "\n",
    "x_train /= 255\n",
    "x_test /= 255\n",
    "print('x_train shape:', x_train.shape)\n",
    "print('Number of images in x_train', x_train.shape[0])\n",
    "print('Number of images in x_test', x_test.shape[0])\n",
    "\n"
   ]
  },
  {
   "cell_type": "code",
   "execution_count": 0,
   "metadata": {
    "colab": {},
    "colab_type": "code",
    "id": "8ptB112BXgkf"
   },
   "outputs": [],
   "source": [
    "from keras.models import Sequential\n",
    "from keras.layers import Dense, Conv2D, Dropout, Flatten, MaxPooling2D\n",
    "\n",
    "model = Sequential()\n",
    "model.add(Conv2D(28, kernel_size=(3,3), input_shape=input_shape))\n",
    "model.add(MaxPooling2D(pool_size=(2, 2)))\n",
    "model.add(Flatten()) \n",
    "model.add(Dense(256, activation='relu'))\n",
    "model.add(Dropout(0.25))\n",
    "model.add(Dense(10, activation='softmax'))"
   ]
  },
  {
   "cell_type": "code",
   "execution_count": 22,
   "metadata": {
    "colab": {
     "base_uri": "https://localhost:8080/",
     "height": 555
    },
    "colab_type": "code",
    "id": "CbA1f7IeZwae",
    "outputId": "8af8522c-59c9-4e15-b4b3-1907bae00f65"
   },
   "outputs": [
    {
     "name": "stdout",
     "output_type": "stream",
     "text": [
      "Epoch 1/15\n",
      "60000/60000 [==============================] - 14s 232us/step - loss: 0.1814 - acc: 0.9451\n",
      "Epoch 2/15\n",
      "60000/60000 [==============================] - 13s 223us/step - loss: 0.0718 - acc: 0.9777\n",
      "Epoch 3/15\n",
      "60000/60000 [==============================] - 13s 222us/step - loss: 0.0505 - acc: 0.9837\n",
      "Epoch 4/15\n",
      "60000/60000 [==============================] - 13s 221us/step - loss: 0.0381 - acc: 0.9878\n",
      "Epoch 5/15\n",
      "60000/60000 [==============================] - 14s 227us/step - loss: 0.0301 - acc: 0.9902\n",
      "Epoch 6/15\n",
      "60000/60000 [==============================] - 13s 224us/step - loss: 0.0245 - acc: 0.9920\n",
      "Epoch 7/15\n",
      "60000/60000 [==============================] - 13s 220us/step - loss: 0.0214 - acc: 0.9926\n",
      "Epoch 8/15\n",
      "60000/60000 [==============================] - 14s 228us/step - loss: 0.0176 - acc: 0.9941\n",
      "Epoch 9/15\n",
      "60000/60000 [==============================] - 13s 223us/step - loss: 0.0187 - acc: 0.9933\n",
      "Epoch 10/15\n",
      "60000/60000 [==============================] - 13s 220us/step - loss: 0.0132 - acc: 0.9954\n",
      "Epoch 11/15\n",
      "60000/60000 [==============================] - 13s 220us/step - loss: 0.0150 - acc: 0.9950\n",
      "Epoch 12/15\n",
      "60000/60000 [==============================] - 13s 221us/step - loss: 0.0138 - acc: 0.9954\n",
      "Epoch 13/15\n",
      "60000/60000 [==============================] - 13s 220us/step - loss: 0.0138 - acc: 0.9955\n",
      "Epoch 14/15\n",
      "60000/60000 [==============================] - 13s 221us/step - loss: 0.0115 - acc: 0.9962\n",
      "Epoch 15/15\n",
      "60000/60000 [==============================] - 13s 221us/step - loss: 0.0131 - acc: 0.9956\n"
     ]
    },
    {
     "data": {
      "text/plain": [
       "<keras.callbacks.History at 0x7fd4a38ea518>"
      ]
     },
     "execution_count": 22,
     "metadata": {
      "tags": []
     },
     "output_type": "execute_result"
    }
   ],
   "source": [
    "model.compile(optimizer='adam', \n",
    "              loss='sparse_categorical_crossentropy', \n",
    "              metrics=['accuracy'])\n",
    "model.fit(x=x_train,y=y_train, epochs=15)"
   ]
  },
  {
   "cell_type": "code",
   "execution_count": 23,
   "metadata": {
    "colab": {
     "base_uri": "https://localhost:8080/",
     "height": 69
    },
    "colab_type": "code",
    "id": "LVorJs4EXgjU",
    "outputId": "a73da2bf-074b-4647-f2f5-ca052445adbc"
   },
   "outputs": [
    {
     "name": "stdout",
     "output_type": "stream",
     "text": [
      "10000/10000 [==============================] - 1s 88us/step\n",
      "loss:  0.06792049670164925\n",
      "acc:  0.9872\n"
     ]
    }
   ],
   "source": [
    "score = model.evaluate(x_test, y_test)\n",
    "\n",
    "print('loss: ', score[0])\n",
    "print('acc: ', score[1])"
   ]
  }
 ],
 "metadata": {
  "accelerator": "GPU",
  "colab": {
   "name": "CNN_HW.ipynb",
   "provenance": []
  },
  "kernelspec": {
   "display_name": "finlab",
   "language": "python",
   "name": "finlab"
  },
  "language_info": {
   "codemirror_mode": {
    "name": "ipython",
    "version": 3
   },
   "file_extension": ".py",
   "mimetype": "text/x-python",
   "name": "python",
   "nbconvert_exporter": "python",
   "pygments_lexer": "ipython3",
   "version": "3.6.8"
  }
 },
 "nbformat": 4,
 "nbformat_minor": 1
}
